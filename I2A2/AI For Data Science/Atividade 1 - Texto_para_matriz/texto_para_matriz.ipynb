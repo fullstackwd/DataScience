{
 "cells": [
  {
   "cell_type": "markdown",
   "id": "d0d62d6e",
   "metadata": {},
   "source": [
    "# AI for Data Science"
   ]
  },
  {
   "cell_type": "markdown",
   "id": "a165ff60",
   "metadata": {},
   "source": [
    "Atividade 1: Transformar texto em matrix"
   ]
  },
  {
   "cell_type": "markdown",
   "id": "873f2fbe",
   "metadata": {},
   "source": [
    "### Forma de entrada de dados"
   ]
  },
  {
   "cell_type": "code",
   "execution_count": 2,
   "id": "403959ac",
   "metadata": {},
   "outputs": [],
   "source": [
    "text = ['Lorem ipsum dolor sit amet, consectetuer adipiscing elit.',\n",
    "        ' Maecenas porttitor congue massa. Fusce posuere,',\n",
    "        ' magna sed pulvinar ultricies, purus lectus malesuada libero,',\n",
    "        ' sit amet commodo magna eros quis urna. Nunc viverra imperdiet enim.',\n",
    "        ' Fusce est. Vivamus a tellus.',\n",
    "        ' Pellentesque habitant morbi tristique senectus et netus et malesuada fames ac turpis egestas.',\n",
    "        ' Proin pharetra nonummy pede. Mauris et orci. Aenean nec lorem.',\n",
    "        ' In porttitor. Donec laoreet nonummy augue. Suspendisse dui purus, scelerisque at,',\n",
    "        ' vulputate vitae, pretium mattis, nunc. Mauris eget neque at sem venenatis eleifend. Ut nonummy.']"
   ]
  },
  {
   "cell_type": "markdown",
   "id": "87731827",
   "metadata": {},
   "source": [
    "### Utilização do pandas para visualizar a matriz e o sklearn.feature_extraction.text que é uma biblioteca sklearn para realizar a vetorização."
   ]
  },
  {
   "cell_type": "code",
   "execution_count": 3,
   "id": "8c5e83d5",
   "metadata": {},
   "outputs": [
    {
     "name": "stdout",
     "output_type": "stream",
     "text": [
      "   ac  adipiscing  aenean  amet  at  augue  commodo  congue  consectetuer  \\\n",
      "0   0           1       0     1   0      0        0       0             1   \n",
      "1   0           0       0     0   0      0        0       1             0   \n",
      "2   0           0       0     0   0      0        0       0             0   \n",
      "3   0           0       0     1   0      0        1       0             0   \n",
      "4   0           0       0     0   0      0        0       0             0   \n",
      "5   1           0       0     0   0      0        0       0             0   \n",
      "6   0           0       1     0   0      0        0       0             0   \n",
      "7   0           0       0     0   1      1        0       0             0   \n",
      "8   0           0       0     0   1      0        0       0             0   \n",
      "\n",
      "   dolor  ...  tristique  turpis  ultricies  urna  ut  venenatis  vitae  \\\n",
      "0      1  ...          0       0          0     0   0          0      0   \n",
      "1      0  ...          0       0          0     0   0          0      0   \n",
      "2      0  ...          0       0          1     0   0          0      0   \n",
      "3      0  ...          0       0          0     1   0          0      0   \n",
      "4      0  ...          0       0          0     0   0          0      0   \n",
      "5      0  ...          1       1          0     0   0          0      0   \n",
      "6      0  ...          0       0          0     0   0          0      0   \n",
      "7      0  ...          0       0          0     0   0          0      0   \n",
      "8      0  ...          0       0          0     0   1          1      1   \n",
      "\n",
      "   vivamus  viverra  vulputate  \n",
      "0        0        0          0  \n",
      "1        0        0          0  \n",
      "2        0        0          0  \n",
      "3        0        1          0  \n",
      "4        1        0          0  \n",
      "5        0        0          0  \n",
      "6        0        0          0  \n",
      "7        0        0          0  \n",
      "8        0        0          1  \n",
      "\n",
      "[9 rows x 70 columns]\n"
     ]
    }
   ],
   "source": [
    "import pandas as pd\n",
    "from sklearn.feature_extraction.text import CountVectorizer\n",
    "\n",
    "coun_vect = CountVectorizer()\n",
    "count_matrix = coun_vect.fit_transform(text)\n",
    "count_array = count_matrix.toarray()\n",
    "\n",
    "df = pd.DataFrame(data=count_array,columns = coun_vect.get_feature_names_out())\n",
    "print(df)"
   ]
  },
  {
   "cell_type": "markdown",
   "id": "b2218ada",
   "metadata": {},
   "source": [
    "### Parametrização - Lowercase - minúscula"
   ]
  },
  {
   "cell_type": "code",
   "execution_count": 4,
   "id": "f783ee44",
   "metadata": {},
   "outputs": [
    {
     "name": "stdout",
     "output_type": "stream",
     "text": [
      "   Aenean  Donec  Fusce  In  Lorem  Maecenas  Mauris  Nunc  Pellentesque  \\\n",
      "0       0      0      0   0      1         0       0     0             0   \n",
      "1       0      0      1   0      0         1       0     0             0   \n",
      "2       0      0      0   0      0         0       0     0             0   \n",
      "3       0      0      0   0      0         0       0     1             0   \n",
      "4       0      0      1   0      0         0       0     0             0   \n",
      "5       0      0      0   0      0         0       0     0             1   \n",
      "6       1      0      0   0      0         0       1     0             0   \n",
      "7       0      1      0   1      0         0       0     0             0   \n",
      "8       0      0      0   0      0         0       1     0             0   \n",
      "\n",
      "   Proin  ...  sit  tellus  tristique  turpis  ultricies  urna  venenatis  \\\n",
      "0      0  ...    1       0          0       0          0     0          0   \n",
      "1      0  ...    0       0          0       0          0     0          0   \n",
      "2      0  ...    0       0          0       0          1     0          0   \n",
      "3      0  ...    1       0          0       0          0     1          0   \n",
      "4      0  ...    0       1          0       0          0     0          0   \n",
      "5      0  ...    0       0          1       1          0     0          0   \n",
      "6      1  ...    0       0          0       0          0     0          0   \n",
      "7      0  ...    0       0          0       0          0     0          0   \n",
      "8      0  ...    0       0          0       0          0     0          1   \n",
      "\n",
      "   vitae  viverra  vulputate  \n",
      "0      0        0          0  \n",
      "1      0        0          0  \n",
      "2      0        0          0  \n",
      "3      0        1          0  \n",
      "4      0        0          0  \n",
      "5      0        0          0  \n",
      "6      0        0          0  \n",
      "7      0        0          0  \n",
      "8      1        0          1  \n",
      "\n",
      "[9 rows x 72 columns]\n"
     ]
    }
   ],
   "source": [
    "# Converte todos os caracteres para minúsculas antes de tokenizar.\n",
    "# O padrão é definido como verdadeiro e assume o valor booleano.\n",
    "\n",
    "coun_vect = CountVectorizer(lowercase=False)\n",
    "count_matrix = coun_vect.fit_transform(text)\n",
    "count_array = count_matrix.toarray()\n",
    "\n",
    "df = pd.DataFrame(data=count_array,columns = coun_vect.get_feature_names_out())\n",
    "print(df)"
   ]
  },
  {
   "cell_type": "markdown",
   "id": "916cac62",
   "metadata": {},
   "source": [
    "### Sem utilizar 'lowercase=False'"
   ]
  },
  {
   "cell_type": "code",
   "execution_count": 5,
   "id": "49258676",
   "metadata": {},
   "outputs": [
    {
     "name": "stdout",
     "output_type": "stream",
     "text": [
      "   ac  adipiscing  aenean  amet  at  augue  commodo  congue  consectetuer  \\\n",
      "0   0           1       0     1   0      0        0       0             1   \n",
      "1   0           0       0     0   0      0        0       1             0   \n",
      "2   0           0       0     0   0      0        0       0             0   \n",
      "3   0           0       0     1   0      0        1       0             0   \n",
      "4   0           0       0     0   0      0        0       0             0   \n",
      "5   1           0       0     0   0      0        0       0             0   \n",
      "6   0           0       1     0   0      0        0       0             0   \n",
      "7   0           0       0     0   1      1        0       0             0   \n",
      "8   0           0       0     0   1      0        0       0             0   \n",
      "\n",
      "   dolor  ...  tristique  turpis  ultricies  urna  ut  venenatis  vitae  \\\n",
      "0      1  ...          0       0          0     0   0          0      0   \n",
      "1      0  ...          0       0          0     0   0          0      0   \n",
      "2      0  ...          0       0          1     0   0          0      0   \n",
      "3      0  ...          0       0          0     1   0          0      0   \n",
      "4      0  ...          0       0          0     0   0          0      0   \n",
      "5      0  ...          1       1          0     0   0          0      0   \n",
      "6      0  ...          0       0          0     0   0          0      0   \n",
      "7      0  ...          0       0          0     0   0          0      0   \n",
      "8      0  ...          0       0          0     0   1          1      1   \n",
      "\n",
      "   vivamus  viverra  vulputate  \n",
      "0        0        0          0  \n",
      "1        0        0          0  \n",
      "2        0        0          0  \n",
      "3        0        1          0  \n",
      "4        1        0          0  \n",
      "5        0        0          0  \n",
      "6        0        0          0  \n",
      "7        0        0          0  \n",
      "8        0        0          1  \n",
      "\n",
      "[9 rows x 70 columns]\n"
     ]
    }
   ],
   "source": [
    "coun_vect = CountVectorizer()\n",
    "count_matrix = coun_vect.fit_transform(text)\n",
    "count_array = count_matrix.toarray()\n",
    "\n",
    "df = pd.DataFrame(data=count_array,columns = coun_vect.get_feature_names_out())\n",
    "print(df)"
   ]
  },
  {
   "cell_type": "markdown",
   "id": "11ef016e",
   "metadata": {},
   "source": [
    "### Stop_words"
   ]
  },
  {
   "cell_type": "markdown",
   "id": "a4213320",
   "metadata": {},
   "source": [
    "Stopwords são as palavras em qualquer idioma que não adicionam muito significado a uma frase.\n",
    "Eles podem ser ignorados com segurança sem sacrificar o significado da frase.\n",
    "Existem 3 maneiras de lidar com stopwords:"
   ]
  },
  {
   "cell_type": "code",
   "execution_count": 6,
   "id": "614161d2",
   "metadata": {},
   "outputs": [
    {
     "name": "stdout",
     "output_type": "stream",
     "text": [
      "   ac  adipiscing  aenean  amet  at  augue  commodo  congue  consectetuer  \\\n",
      "0   0           1       0     1   0      0        0       0             1   \n",
      "1   0           0       0     0   0      0        0       1             0   \n",
      "2   0           0       0     0   0      0        0       0             0   \n",
      "3   0           0       0     1   0      0        1       0             0   \n",
      "4   0           0       0     0   0      0        0       0             0   \n",
      "5   1           0       0     0   0      0        0       0             0   \n",
      "6   0           0       1     0   0      0        0       0             0   \n",
      "7   0           0       0     0   1      1        0       0             0   \n",
      "8   0           0       0     0   1      0        0       0             0   \n",
      "\n",
      "   dolor  ...  tristique  turpis  ultricies  urna  ut  venenatis  vitae  \\\n",
      "0      1  ...          0       0          0     0   0          0      0   \n",
      "1      0  ...          0       0          0     0   0          0      0   \n",
      "2      0  ...          0       0          1     0   0          0      0   \n",
      "3      0  ...          0       0          0     1   0          0      0   \n",
      "4      0  ...          0       0          0     0   0          0      0   \n",
      "5      0  ...          1       1          0     0   0          0      0   \n",
      "6      0  ...          0       0          0     0   0          0      0   \n",
      "7      0  ...          0       0          0     0   0          0      0   \n",
      "8      0  ...          0       0          0     0   1          1      1   \n",
      "\n",
      "   vivamus  viverra  vulputate  \n",
      "0        0        0          0  \n",
      "1        0        0          0  \n",
      "2        0        0          0  \n",
      "3        0        1          0  \n",
      "4        1        0          0  \n",
      "5        0        0          0  \n",
      "6        0        0          0  \n",
      "7        0        0          0  \n",
      "8        0        0          1  \n",
      "\n",
      "[9 rows x 70 columns]\n"
     ]
    }
   ],
   "source": [
    "# 1 - Lista personalizada de palavras de parada (Stop_words)\n",
    "\n",
    "coun_vect = CountVectorizer(stop_words= ['is','to','my'])\n",
    "count_matrix = coun_vect.fit_transform(text)\n",
    "count_array = count_matrix.toarray()\n",
    "\n",
    "df = pd.DataFrame(data=count_array,columns = coun_vect.get_feature_names_out())\n",
    "print(df)"
   ]
  },
  {
   "cell_type": "code",
   "execution_count": 16,
   "id": "b3d6228a",
   "metadata": {},
   "outputs": [
    {
     "name": "stdout",
     "output_type": "stream",
     "text": [
      "   ac  adipiscing  aenean  amet  augue  commodo  congue  consectetuer  dolor  \\\n",
      "0   0           1       0     1      0        0       0             1      1   \n",
      "1   0           0       0     0      0        0       1             0      0   \n",
      "2   0           0       0     0      0        0       0             0      0   \n",
      "3   0           0       0     1      0        1       0             0      0   \n",
      "4   0           0       0     0      0        0       0             0      0   \n",
      "5   1           0       0     0      0        0       0             0      0   \n",
      "6   0           0       1     0      0        0       0             0      0   \n",
      "7   0           0       0     0      1        0       0             0      0   \n",
      "8   0           0       0     0      0        0       0             0      0   \n",
      "\n",
      "   donec  ...  tristique  turpis  ultricies  urna  ut  venenatis  vitae  \\\n",
      "0      0  ...          0       0          0     0   0          0      0   \n",
      "1      0  ...          0       0          0     0   0          0      0   \n",
      "2      0  ...          0       0          1     0   0          0      0   \n",
      "3      0  ...          0       0          0     1   0          0      0   \n",
      "4      0  ...          0       0          0     0   0          0      0   \n",
      "5      0  ...          1       1          0     0   0          0      0   \n",
      "6      0  ...          0       0          0     0   0          0      0   \n",
      "7      1  ...          0       0          0     0   0          0      0   \n",
      "8      0  ...          0       0          0     0   1          1      1   \n",
      "\n",
      "   vivamus  viverra  vulputate  \n",
      "0        0        0          0  \n",
      "1        0        0          0  \n",
      "2        0        0          0  \n",
      "3        0        1          0  \n",
      "4        1        0          0  \n",
      "5        0        0          0  \n",
      "6        0        0          0  \n",
      "7        0        0          0  \n",
      "8        0        0          1  \n",
      "\n",
      "[9 rows x 68 columns]\n"
     ]
    }
   ],
   "source": [
    "# 2. sklearn construído na lista de palavras de parada\n",
    "\n",
    "coun_vect = CountVectorizer(stop_words='english')\n",
    "count_matrix = coun_vect.fit_transform(text)\n",
    "count_array = count_matrix.toarray()\n",
    "\n",
    "df = pd.DataFrame(data=count_array,columns = coun_vect.get_feature_names_out())\n",
    "print(df)"
   ]
  },
  {
   "cell_type": "markdown",
   "id": "61675102",
   "metadata": {},
   "source": [
    "###  3. Usando max_df e min_df"
   ]
  },
  {
   "cell_type": "markdown",
   "id": "e9bd0ff6",
   "metadata": {},
   "source": [
    "### Max_df\n",
    "\n",
    "representa a frequência máxima do documento. Semelhante a min_df, podemos ignorar palavras que ocorrem com frequência. Essas palavras podem ser como a palavra 'the' que ocorre em todos os documentos e não fornecem informações valiosas para nossa classificação de texto ou qualquer outro modelo de aprendizado de máquina e podem ser ignoradas com segurança. Max_df verifica quantos documentos contêm a palavra e, se exceder o limite max_df, será eliminado da matriz esparsa. Este parâmetro pode novamente 2 tipos de valores, percentuais e absolutos."
   ]
  },
  {
   "cell_type": "code",
   "execution_count": 8,
   "id": "a4fab80e",
   "metadata": {},
   "outputs": [
    {
     "name": "stdout",
     "output_type": "stream",
     "text": [
      "   ac  adipiscing  aenean  augue  commodo  congue  consectetuer  dolor  donec  \\\n",
      "0   0           1       0      0        0       0             1      1      0   \n",
      "1   0           0       0      0        0       1             0      0      0   \n",
      "2   0           0       0      0        0       0             0      0      0   \n",
      "3   0           0       0      0        1       0             0      0      0   \n",
      "4   0           0       0      0        0       0             0      0      0   \n",
      "5   1           0       0      0        0       0             0      0      0   \n",
      "6   0           0       1      0        0       0             0      0      0   \n",
      "7   0           0       0      1        0       0             0      0      1   \n",
      "8   0           0       0      0        0       0             0      0      0   \n",
      "\n",
      "   dui  ...  tristique  turpis  ultricies  urna  ut  venenatis  vitae  \\\n",
      "0    0  ...          0       0          0     0   0          0      0   \n",
      "1    0  ...          0       0          0     0   0          0      0   \n",
      "2    0  ...          0       0          1     0   0          0      0   \n",
      "3    0  ...          0       0          0     1   0          0      0   \n",
      "4    0  ...          0       0          0     0   0          0      0   \n",
      "5    0  ...          1       1          0     0   0          0      0   \n",
      "6    0  ...          0       0          0     0   0          0      0   \n",
      "7    1  ...          0       0          0     0   0          0      0   \n",
      "8    0  ...          0       0          0     0   1          1      1   \n",
      "\n",
      "   vivamus  viverra  vulputate  \n",
      "0        0        0          0  \n",
      "1        0        0          0  \n",
      "2        0        0          0  \n",
      "3        0        1          0  \n",
      "4        1        0          0  \n",
      "5        0        0          0  \n",
      "6        0        0          0  \n",
      "7        0        0          0  \n",
      "8        0        0          1  \n",
      "\n",
      "[9 rows x 57 columns]\n"
     ]
    }
   ],
   "source": [
    "# Valores absolutos\n",
    "\n",
    "coun_vect = CountVectorizer(max_df=1)  # Palavras que aparecem no máximo 1 vez\n",
    "count_matrix = coun_vect.fit_transform(text)\n",
    "count_array = count_matrix.toarray()\n",
    "\n",
    "df = pd.DataFrame(data=count_array,columns = coun_vect.get_feature_names_out())\n",
    "print(df)"
   ]
  },
  {
   "cell_type": "code",
   "execution_count": 9,
   "id": "e3b27e32",
   "metadata": {},
   "outputs": [
    {
     "name": "stdout",
     "output_type": "stream",
     "text": [
      "   ac  adipiscing  aenean  amet  at  augue  commodo  congue  consectetuer  \\\n",
      "0   0           1       0     1   0      0        0       0             1   \n",
      "1   0           0       0     0   0      0        0       1             0   \n",
      "2   0           0       0     0   0      0        0       0             0   \n",
      "3   0           0       0     1   0      0        1       0             0   \n",
      "4   0           0       0     0   0      0        0       0             0   \n",
      "5   1           0       0     0   0      0        0       0             0   \n",
      "6   0           0       1     0   0      0        0       0             0   \n",
      "7   0           0       0     0   1      1        0       0             0   \n",
      "8   0           0       0     0   1      0        0       0             0   \n",
      "\n",
      "   dolor  ...  tristique  turpis  ultricies  urna  ut  venenatis  vitae  \\\n",
      "0      1  ...          0       0          0     0   0          0      0   \n",
      "1      0  ...          0       0          0     0   0          0      0   \n",
      "2      0  ...          0       0          1     0   0          0      0   \n",
      "3      0  ...          0       0          0     1   0          0      0   \n",
      "4      0  ...          0       0          0     0   0          0      0   \n",
      "5      0  ...          1       1          0     0   0          0      0   \n",
      "6      0  ...          0       0          0     0   0          0      0   \n",
      "7      0  ...          0       0          0     0   0          0      0   \n",
      "8      0  ...          0       0          0     0   1          1      1   \n",
      "\n",
      "   vivamus  viverra  vulputate  \n",
      "0        0        0          0  \n",
      "1        0        0          0  \n",
      "2        0        0          0  \n",
      "3        0        1          0  \n",
      "4        1        0          0  \n",
      "5        0        0          0  \n",
      "6        0        0          0  \n",
      "7        0        0          0  \n",
      "8        0        0          1  \n",
      "\n",
      "[9 rows x 70 columns]\n"
     ]
    }
   ],
   "source": [
    "# Percentual\n",
    "\n",
    "coun_vect = CountVectorizer(max_df=0.75)  # 0.75 = 75%\n",
    "count_matrix = coun_vect.fit_transform(text)\n",
    "count_array = count_matrix.toarray()\n",
    "\n",
    "df = pd.DataFrame(data=count_array,columns = coun_vect.get_feature_names_out())\n",
    "print(df)"
   ]
  },
  {
   "cell_type": "markdown",
   "id": "08788e83",
   "metadata": {},
   "source": [
    "### Min_df\n",
    "\n",
    "representa a frequência mínima do documento, ao contrário da frequência do termo que conta o número de vezes que a palavra ocorreu em todo o conjunto de dados, a frequência do documento conta o número de documentos no conjunto de dados (também conhecido como linhas ou entradas) que possuem a palavra específica. Ao construir o vocabulário, Min_df ignora os termos que possuem uma frequência de documento estritamente inferior ao limite especificado. Por exemplo, em seu conjunto de dados, você pode ter nomes que aparecem em apenas 1 ou 2 documentos; agora, eles podem ser ignorados, pois não fornecem informações suficientes sobre todo o conjunto de dados como um todo, mas apenas alguns documentos específicos. min_df pode assumir valores absolutos (1,2,3..) ou um valor que representa uma porcentagem de documentos (0,50, ignora palavras que aparecem em 50% dos documentos)"
   ]
  },
  {
   "cell_type": "code",
   "execution_count": 10,
   "id": "f5081786",
   "metadata": {},
   "outputs": [
    {
     "name": "stdout",
     "output_type": "stream",
     "text": [
      "   amet  at  et  fusce  lorem  magna  malesuada  mauris  nonummy  nunc  \\\n",
      "0     1   0   0      0      1      0          0       0        0     0   \n",
      "1     0   0   0      1      0      0          0       0        0     0   \n",
      "2     0   0   0      0      0      1          1       0        0     0   \n",
      "3     1   0   0      0      0      1          0       0        0     1   \n",
      "4     0   0   0      1      0      0          0       0        0     0   \n",
      "5     0   0   2      0      0      0          1       0        0     0   \n",
      "6     0   0   1      0      1      0          0       1        1     0   \n",
      "7     0   1   0      0      0      0          0       0        1     0   \n",
      "8     0   1   0      0      0      0          0       1        1     1   \n",
      "\n",
      "   porttitor  purus  sit  \n",
      "0          0      0    1  \n",
      "1          1      0    0  \n",
      "2          0      1    0  \n",
      "3          0      0    1  \n",
      "4          0      0    0  \n",
      "5          0      0    0  \n",
      "6          0      0    0  \n",
      "7          1      1    0  \n",
      "8          0      0    0  \n"
     ]
    }
   ],
   "source": [
    "# Valores absolutos\n",
    "\n",
    "coun_vect = CountVectorizer(min_df=2)  # Palavras que aparecem no mínimo 2 vezes\n",
    "count_matrix = coun_vect.fit_transform(text)\n",
    "count_array = count_matrix.toarray()\n",
    "\n",
    "df = pd.DataFrame(data=count_array,columns = coun_vect.get_feature_names_out())\n",
    "print(df)"
   ]
  },
  {
   "cell_type": "markdown",
   "id": "4ade664a",
   "metadata": {},
   "source": [
    "### max_features\n",
    "\n",
    "O CountVectorizer selecionará as palavras/recursos/termos que ocorrem com mais frequência. Leva valores absolutos, portanto, se você definir ‘max_features = 5’, ele selecionará as 5 palavras mais comuns nos dados."
   ]
  },
  {
   "cell_type": "code",
   "execution_count": 20,
   "id": "ce768b53",
   "metadata": {},
   "outputs": [
    {
     "name": "stdout",
     "output_type": "stream",
     "text": [
      "   et  fusce  mauris  nonummy  nunc\n",
      "0   0      0       0        0     0\n",
      "1   0      1       0        0     0\n",
      "2   0      0       0        0     0\n",
      "3   0      0       0        0     1\n",
      "4   0      1       0        0     0\n",
      "5   2      0       0        0     0\n",
      "6   1      0       1        1     0\n",
      "7   0      0       0        1     0\n",
      "8   0      0       1        1     1\n"
     ]
    },
    {
     "data": {
      "text/html": [
       "<div>\n",
       "<style scoped>\n",
       "    .dataframe tbody tr th:only-of-type {\n",
       "        vertical-align: middle;\n",
       "    }\n",
       "\n",
       "    .dataframe tbody tr th {\n",
       "        vertical-align: top;\n",
       "    }\n",
       "\n",
       "    .dataframe thead th {\n",
       "        text-align: right;\n",
       "    }\n",
       "</style>\n",
       "<table border=\"1\" class=\"dataframe\">\n",
       "  <thead>\n",
       "    <tr style=\"text-align: right;\">\n",
       "      <th></th>\n",
       "      <th>et</th>\n",
       "      <th>fusce</th>\n",
       "      <th>mauris</th>\n",
       "      <th>nonummy</th>\n",
       "      <th>nunc</th>\n",
       "    </tr>\n",
       "  </thead>\n",
       "  <tbody>\n",
       "    <tr>\n",
       "      <th>0</th>\n",
       "      <td>0</td>\n",
       "      <td>0</td>\n",
       "      <td>0</td>\n",
       "      <td>0</td>\n",
       "      <td>0</td>\n",
       "    </tr>\n",
       "    <tr>\n",
       "      <th>1</th>\n",
       "      <td>0</td>\n",
       "      <td>1</td>\n",
       "      <td>0</td>\n",
       "      <td>0</td>\n",
       "      <td>0</td>\n",
       "    </tr>\n",
       "    <tr>\n",
       "      <th>2</th>\n",
       "      <td>0</td>\n",
       "      <td>0</td>\n",
       "      <td>0</td>\n",
       "      <td>0</td>\n",
       "      <td>0</td>\n",
       "    </tr>\n",
       "    <tr>\n",
       "      <th>3</th>\n",
       "      <td>0</td>\n",
       "      <td>0</td>\n",
       "      <td>0</td>\n",
       "      <td>0</td>\n",
       "      <td>1</td>\n",
       "    </tr>\n",
       "    <tr>\n",
       "      <th>4</th>\n",
       "      <td>0</td>\n",
       "      <td>1</td>\n",
       "      <td>0</td>\n",
       "      <td>0</td>\n",
       "      <td>0</td>\n",
       "    </tr>\n",
       "    <tr>\n",
       "      <th>5</th>\n",
       "      <td>2</td>\n",
       "      <td>0</td>\n",
       "      <td>0</td>\n",
       "      <td>0</td>\n",
       "      <td>0</td>\n",
       "    </tr>\n",
       "    <tr>\n",
       "      <th>6</th>\n",
       "      <td>1</td>\n",
       "      <td>0</td>\n",
       "      <td>1</td>\n",
       "      <td>1</td>\n",
       "      <td>0</td>\n",
       "    </tr>\n",
       "    <tr>\n",
       "      <th>7</th>\n",
       "      <td>0</td>\n",
       "      <td>0</td>\n",
       "      <td>0</td>\n",
       "      <td>1</td>\n",
       "      <td>0</td>\n",
       "    </tr>\n",
       "    <tr>\n",
       "      <th>8</th>\n",
       "      <td>0</td>\n",
       "      <td>0</td>\n",
       "      <td>1</td>\n",
       "      <td>1</td>\n",
       "      <td>1</td>\n",
       "    </tr>\n",
       "  </tbody>\n",
       "</table>\n",
       "</div>"
      ],
      "text/plain": [
       "   et  fusce  mauris  nonummy  nunc\n",
       "0   0      0       0        0     0\n",
       "1   0      1       0        0     0\n",
       "2   0      0       0        0     0\n",
       "3   0      0       0        0     1\n",
       "4   0      1       0        0     0\n",
       "5   2      0       0        0     0\n",
       "6   1      0       1        1     0\n",
       "7   0      0       0        1     0\n",
       "8   0      0       1        1     1"
      ]
     },
     "execution_count": 20,
     "metadata": {},
     "output_type": "execute_result"
    }
   ],
   "source": [
    "coun_vect = CountVectorizer(max_features=5)\n",
    "count_matrix = coun_vect.fit_transform(text)\n",
    "count_array = count_matrix.toarray()\n",
    "\n",
    "df = pd.DataFrame(data=count_array,columns = coun_vect.get_feature_names_out())\n",
    "print(df)\n",
    "\n",
    "df"
   ]
  },
  {
   "cell_type": "markdown",
   "id": "e408c4cb",
   "metadata": {},
   "source": [
    "### Binário\n",
    "\n",
    "Definindo ‘binary = True’, o CountVectorizer não leva mais em consideração a frequência do termo/palavra. Se ocorrer, é definido como 1, caso contrário, 0. Por padrão, binário é definido como Falso. Isso geralmente é usado quando a contagem do termo/palavra não fornece informações úteis para o modelo de aprendizado de máquina."
   ]
  },
  {
   "cell_type": "markdown",
   "id": "39065f51",
   "metadata": {},
   "source": [
    "Mesmo que todas as palavras ocorram duas vezes na entrada acima, nossa matriz esparsa apenas a representa com 1"
   ]
  },
  {
   "cell_type": "code",
   "execution_count": 29,
   "id": "d307c7dc",
   "metadata": {},
   "outputs": [],
   "source": [
    "text_1 = ['Lorem ipsum dolor sit amet, consectetuer adipiscing elit. Consectetuer adipiscing elit.']"
   ]
  },
  {
   "cell_type": "code",
   "execution_count": 30,
   "id": "bbde42ac",
   "metadata": {},
   "outputs": [
    {
     "name": "stdout",
     "output_type": "stream",
     "text": [
      "   adipiscing  amet  consectetuer  dolor  elit  ipsum  lorem  sit\n",
      "0           1     1             1      1     1      1      1    1\n"
     ]
    }
   ],
   "source": [
    "coun_vect = CountVectorizer(binary=True)\n",
    "count_matrix = coun_vect.fit_transform(text_1)\n",
    "count_array = count_matrix.toarray()\n",
    "\n",
    "df = pd.DataFrame(data=count_array,columns = coun_vect.get_feature_names_out())\n",
    "print(df)"
   ]
  },
  {
   "cell_type": "markdown",
   "id": "5e8ea7e8",
   "metadata": {},
   "source": [
    "Para ver os valores em default retirar o 'binary=True'"
   ]
  },
  {
   "cell_type": "code",
   "execution_count": 31,
   "id": "f28952d1",
   "metadata": {},
   "outputs": [
    {
     "name": "stdout",
     "output_type": "stream",
     "text": [
      "   adipiscing  amet  consectetuer  dolor  elit  ipsum  lorem  sit\n",
      "0           2     1             2      1     2      1      1    1\n"
     ]
    }
   ],
   "source": [
    "coun_vect = CountVectorizer()\n",
    "count_matrix = coun_vect.fit_transform(text_1)\n",
    "count_array = count_matrix.toarray()\n",
    "\n",
    "df = pd.DataFrame(data=count_array,columns = coun_vect.get_feature_names_out())\n",
    "print(df)"
   ]
  },
  {
   "cell_type": "markdown",
   "id": "1ec52428",
   "metadata": {},
   "source": [
    "# Vocabulário\n",
    "\n",
    "a coleção de palavras na matriz esparsa.\n",
    "Os números não representam a contagem das palavras, mas a posição das palavras na matriz"
   ]
  },
  {
   "cell_type": "code",
   "execution_count": 32,
   "id": "869de249",
   "metadata": {},
   "outputs": [
    {
     "name": "stdout",
     "output_type": "stream",
     "text": [
      "{'lorem': 29, 'ipsum': 25, 'dolor': 9, 'sit': 57, 'amet': 3, 'consectetuer': 8, 'adipiscing': 1, 'elit': 15, 'maecenas': 30, 'porttitor': 46, 'congue': 7, 'massa': 33, 'fusce': 21, 'posuere': 47, 'magna': 31, 'sed': 54, 'pulvinar': 50, 'ultricies': 62, 'purus': 51, 'lectus': 27, 'malesuada': 32, 'libero': 28, 'commodo': 6, 'eros': 17, 'quis': 52, 'urna': 63, 'nunc': 41, 'viverra': 68, 'imperdiet': 23, 'enim': 16, 'est': 18, 'vivamus': 67, 'tellus': 59, 'pellentesque': 44, 'habitant': 22, 'morbi': 36, 'tristique': 60, 'senectus': 56, 'et': 19, 'netus': 39, 'fames': 20, 'ac': 0, 'turpis': 61, 'egestas': 12, 'proin': 49, 'pharetra': 45, 'nonummy': 40, 'pede': 43, 'mauris': 35, 'orci': 42, 'aenean': 2, 'nec': 37, 'in': 24, 'donec': 10, 'laoreet': 26, 'augue': 5, 'suspendisse': 58, 'dui': 11, 'scelerisque': 53, 'at': 4, 'vulputate': 69, 'vitae': 66, 'pretium': 48, 'mattis': 34, 'eget': 13, 'neque': 38, 'sem': 55, 'venenatis': 65, 'eleifend': 14, 'ut': 64}\n"
     ]
    }
   ],
   "source": [
    "coun_vect = CountVectorizer()\n",
    "count_matrix = coun_vect.fit_transform(text)\n",
    "\n",
    "print(coun_vect.vocabulary_)"
   ]
  },
  {
   "cell_type": "markdown",
   "id": "debc38de",
   "metadata": {},
   "source": [
    "Se você quiser apenas o vocabulário sem a posição da palavra na matriz esparsa, pode usar o método ‘get_feature_names_out()’. Se você perceber que este é o mesmo método que usamos ao criar nosso banco de dados e definir nossas colunas."
   ]
  },
  {
   "cell_type": "code",
   "execution_count": null,
   "id": "0e6685da",
   "metadata": {},
   "outputs": [],
   "source": [
    "count_matrix = coun_vect.fit_transform(text)\n",
    "\n",
    "print(coun_vect.get_feature_names_out())"
   ]
  }
 ],
 "metadata": {
  "kernelspec": {
   "display_name": "Python 3",
   "language": "python",
   "name": "python3"
  },
  "language_info": {
   "codemirror_mode": {
    "name": "ipython",
    "version": 3
   },
   "file_extension": ".py",
   "mimetype": "text/x-python",
   "name": "python",
   "nbconvert_exporter": "python",
   "pygments_lexer": "ipython3",
   "version": "3.9.10"
  }
 },
 "nbformat": 4,
 "nbformat_minor": 5
}
